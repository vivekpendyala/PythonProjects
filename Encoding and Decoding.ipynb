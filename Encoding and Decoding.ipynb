{
 "cells": [
  {
   "cell_type": "markdown",
   "metadata": {},
   "source": [
    "# Encoding and Decoding Logic"
   ]
  },
  {
   "cell_type": "code",
   "execution_count": 1,
   "metadata": {},
   "outputs": [
    {
     "name": "stdout",
     "output_type": "stream",
     "text": [
      "['A', 'B', 'C', 'D', 'E', 'F', 'G', 'H', 'I', 'J', 'K', 'L', 'M', 'N', 'O', 'P', 'Q', 'R', 'S', 'T', 'U', 'V', 'W', 'X', 'Y', 'Z', 'a', 'b', 'c', 'd', 'e', 'f', 'g', 'h', 'i', 'j', 'k', 'l', 'm', 'n', 'o', 'p', 'q', 'r', 's', 't', 'u', 'v', 'w', 'x', 'y', 'z']\n"
     ]
    }
   ],
   "source": [
    "\n",
    "# Used to create alphabets\n",
    "\n",
    "alp = []\n",
    "for i in range(0,26):\n",
    "    alp.append(chr(97+i))\n",
    "    alp.append(chr(65+i))\n",
    "alp = sorted(alp)\n",
    "print(alp)"
   ]
  },
  {
   "cell_type": "code",
   "execution_count": 2,
   "metadata": {},
   "outputs": [
    {
     "name": "stdout",
     "output_type": "stream",
     "text": [
      "['0', '1', '2', '3', '4', '5', '6', '7', '8', '9']\n"
     ]
    }
   ],
   "source": [
    "\n",
    "# Used to create numbers\n",
    "\n",
    "n =[]\n",
    "for i in range(10):\n",
    "    n.append(str(i))\n",
    "print(n)"
   ]
  },
  {
   "cell_type": "code",
   "execution_count": 3,
   "metadata": {},
   "outputs": [
    {
     "name": "stdout",
     "output_type": "stream",
     "text": [
      "['!', '@', '#', '$', '%', '^', '&', '*', '(', ')', '_', '+', '-', '=', '|', '~', '`', '{', '}', '[', ']', ':', ';', '<', '>', '.', '?', '\"', ',', \"'\", '/', '\\\\']\n"
     ]
    }
   ],
   "source": [
    "\n",
    "# Used to create Special symbols\n",
    "\n",
    "ss = '!@#$%^&*()_+-=|~`{}[]:;<>.?\",'\n",
    "ss = list(ss)\n",
    "ss.append(\"'\")\n",
    "ss.append(\"/\")\n",
    "ss.append(\"\\\\\")\n",
    "print(ss)"
   ]
  },
  {
   "cell_type": "code",
   "execution_count": 4,
   "metadata": {},
   "outputs": [],
   "source": [
    "\n",
    "# Used to add Symobls , numbers and alphabets togeather\n",
    "\n",
    "queue = []\n",
    "queue.extend(alp)\n",
    "queue.extend(n)\n",
    "queue.extend(ss)\n",
    "queue.append(' ')\n",
    "queue = queue*100"
   ]
  },
  {
   "cell_type": "code",
   "execution_count": 5,
   "metadata": {},
   "outputs": [],
   "source": [
    "\n",
    "# Used to get a time varying constant value\n",
    "\n",
    "def check(a):\n",
    "    b = a[1].split(':')\n",
    "    t = sum(list(map(int,b)))\n",
    "    k = t\n",
    "    y = sum(list(map(int,a[-1])))   # max(k,y,d)//20    1\n",
    "    d = int(a[0])\n",
    "    return max(k,y,d)//20"
   ]
  },
  {
   "cell_type": "code",
   "execution_count": 6,
   "metadata": {},
   "outputs": [
    {
     "name": "stdout",
     "output_type": "stream",
     "text": [
      "This^is=a+encoding-and DeCoDing_Logic190\n",
      "Plew@mo{W~arYsZmjk(ejh,HaGkHerc|HscmY554\n"
     ]
    }
   ],
   "source": [
    "import time\n",
    "p = input()\n",
    "p1 = list(p)\n",
    "l = len(p1)\n",
    "c = []\n",
    "localtime = time.asctime( time.localtime(time.time()) )\n",
    "a = localtime.split()[2:]\n",
    "num3 = check(a)\n",
    "oper = ['+','-']\n",
    "oper2 = oper[::-1]\n",
    "\n",
    "# ----------------------------------------Encoding logic starts from here-------------------------------------------\n",
    "\n",
    "for i in range(l):\n",
    "    cn = queue.index(p1[i])\n",
    "    for j in range(num3):\n",
    "        if i%2 == 0:\n",
    "            nta = queue[eval('{} {} {}'.format(cn,oper[j%2],num3))]\n",
    "        else:\n",
    "            nta = queue[eval('{} {} {}'.format(cn,oper2[j%2],num3))] \n",
    "    c.append(nta)\n",
    "\n",
    "\n",
    "c = ''.join(c)\n",
    "print(c)"
   ]
  },
  {
   "cell_type": "code",
   "execution_count": 7,
   "metadata": {},
   "outputs": [
    {
     "name": "stdout",
     "output_type": "stream",
     "text": [
      "This^is=a+encoding-and DeCoDing_Logic190\n"
     ]
    }
   ],
   "source": [
    "dec = ['-','+']\n",
    "dec2 = dec[::-1]\n",
    "deco = []\n",
    "p2 = list(c)\n",
    "\n",
    "# ----------------------------------------------------Decoding logic starts here---------------------------------------------\n",
    "\n",
    "for i in range(len(p2)):\n",
    "    cn = queue.index(p2[i])\n",
    "    for j in range(num3):\n",
    "        if i%2 ==0:\n",
    "            nta = queue[eval(\"{} {} {}\".format(cn,dec[j%2],num3))]\n",
    "        else:\n",
    "            nta = queue[eval(\"{} {} {}\".format(cn,dec2[j%2],num3))]\n",
    "    deco.append(nta)\n",
    "\n",
    "\n",
    "print(''.join(deco))"
   ]
  }
 ],
 "metadata": {
  "kernelspec": {
   "display_name": "Python 3",
   "language": "python",
   "name": "python3"
  },
  "language_info": {
   "codemirror_mode": {
    "name": "ipython",
    "version": 3
   },
   "file_extension": ".py",
   "mimetype": "text/x-python",
   "name": "python",
   "nbconvert_exporter": "python",
   "pygments_lexer": "ipython3",
   "version": "3.8.3"
  }
 },
 "nbformat": 4,
 "nbformat_minor": 4
}

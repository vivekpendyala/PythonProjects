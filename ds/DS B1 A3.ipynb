{
 "cells": [
  {
   "cell_type": "markdown",
   "metadata": {},
   "source": [
    "# Questions 1:\n",
    "Create a numpy array starting from 2 till 50 with a stepsize of 3."
   ]
  },
  {
   "cell_type": "code",
   "execution_count": 1,
   "metadata": {},
   "outputs": [
    {
     "name": "stdout",
     "output_type": "stream",
     "text": [
      "[ 2  5  8 11 14 17 20 23 26 29 32 35 38 41 44 47 50]\n",
      "\n",
      "<class 'numpy.ndarray'>\n"
     ]
    }
   ],
   "source": [
    "import numpy as np\n",
    "arr = np.arange(2,51,3)\n",
    "print(arr)\n",
    "print()\n",
    "print(type(arr))"
   ]
  },
  {
   "cell_type": "markdown",
   "metadata": {},
   "source": [
    "# Questions 2:\n",
    "Accept two lists of 5 elements each from the user.\n",
    "Convert them to numpy arrays. Concatenate these arrays and print it. Also sort these arrays and print it."
   ]
  },
  {
   "cell_type": "code",
   "execution_count": 9,
   "metadata": {
    "scrolled": true
   },
   "outputs": [
    {
     "name": "stdout",
     "output_type": "stream",
     "text": [
      "1 2 3 4\n",
      "5 6 7 8\n",
      "\n",
      "[1. 2. 3. 4. 5. 6. 7. 8.]\n",
      "\n",
      "[1. 2. 3. 4.]\n",
      "\n",
      "[5. 6. 7. 8.]\n"
     ]
    }
   ],
   "source": [
    "l1 = list(map(float,input().split()))[:5]\n",
    "l2 = list(map(float,input().split()))[:5]\n",
    "arr1 = np.array(l1)\n",
    "arr2 = np.array(l2)\n",
    "arr3 = np.concatenate((arr1,arr2))\n",
    "print()\n",
    "print(arr3)  # Concatinating arr1 and arr2\n",
    "print()\n",
    "arr1 = np.sort(arr1)\n",
    "arr2 = np.sort(arr2)\n",
    "print(arr1)     # Printing the sorted array 1\n",
    "print()\n",
    "print(arr2)    # Printing the sorted array 2"
   ]
  },
  {
   "cell_type": "markdown",
   "metadata": {},
   "source": [
    "# Questions 3:\n",
    "Write a code snippet to find the dimensions of a ndarray and its size."
   ]
  },
  {
   "cell_type": "code",
   "execution_count": 10,
   "metadata": {},
   "outputs": [
    {
     "name": "stdout",
     "output_type": "stream",
     "text": [
      "[ 0  1  2  3  4  5  6  7  8  9 10 11]\n",
      "1\n",
      "12\n"
     ]
    }
   ],
   "source": [
    "arr1 = np.arange(12)\n",
    "print(arr1)\n",
    "print(np.ndim(arr1))\n",
    "print(np.size(arr1))"
   ]
  },
  {
   "cell_type": "markdown",
   "metadata": {},
   "source": [
    "# Questions 4:\n",
    "\n",
    "How to convert a 1D array into a 2D array? Demonstrate with the help of a code snippet"
   ]
  },
  {
   "cell_type": "code",
   "execution_count": 14,
   "metadata": {},
   "outputs": [
    {
     "name": "stdout",
     "output_type": "stream",
     "text": [
      "(12,)\n"
     ]
    },
    {
     "data": {
      "text/plain": [
       "(12, 1, 1)"
      ]
     },
     "execution_count": 14,
     "metadata": {},
     "output_type": "execute_result"
    }
   ],
   "source": [
    "print(arr1.shape)\n",
    "arr1[:,np.newaxis,np.newaxis].shape"
   ]
  },
  {
   "cell_type": "markdown",
   "metadata": {},
   "source": [
    "# Questions 5:\n",
    "Consider two square numpy arrays. Stack them vertically and horizontally."
   ]
  },
  {
   "cell_type": "code",
   "execution_count": 8,
   "metadata": {},
   "outputs": [
    {
     "name": "stdout",
     "output_type": "stream",
     "text": [
      "[0 1 2 3]\n",
      "\n",
      "[5 6 7 8]\n",
      "\n",
      "Horizontal stack [0 1 2 3 5 6 7 8]\n",
      "\n",
      "Vertical Stack [[0 1 2 3]\n",
      " [5 6 7 8]]\n"
     ]
    }
   ],
   "source": [
    "a = np.arange(4)\n",
    "b = np.arange(5,9)\n",
    "print(a)\n",
    "print()\n",
    "print(b)\n",
    "print()\n",
    "print('Horizontal stack',np.hstack((a,b)))\n",
    "print()\n",
    "print('Vertical Stack',np.vstack((a,b)))"
   ]
  },
  {
   "cell_type": "markdown",
   "metadata": {},
   "source": [
    "# Questions 6:\n",
    "How to get unique items and counts of unique items?"
   ]
  },
  {
   "cell_type": "code",
   "execution_count": 6,
   "metadata": {},
   "outputs": [
    {
     "name": "stdout",
     "output_type": "stream",
     "text": [
      "[1 2 3 4 5 6 1 2 3]\n",
      "\n",
      "Unique values of array1: [1 2 3 4 5 6]\n",
      "\n",
      "Number of unique values 6\n"
     ]
    }
   ],
   "source": [
    "arr = np.array([1,2,3,4,5,6,1,2,3])\n",
    "print(arr)\n",
    "print()\n",
    "arr2 = np.unique(arr)\n",
    "print('Unique values of array1:',arr2)\n",
    "print()\n",
    "print('Number of unique values',np.size(arr2))"
   ]
  }
 ],
 "metadata": {
  "kernelspec": {
   "display_name": "Python 3",
   "language": "python",
   "name": "python3"
  },
  "language_info": {
   "codemirror_mode": {
    "name": "ipython",
    "version": 3
   },
   "file_extension": ".py",
   "mimetype": "text/x-python",
   "name": "python",
   "nbconvert_exporter": "python",
   "pygments_lexer": "ipython3",
   "version": "3.8.3"
  }
 },
 "nbformat": 4,
 "nbformat_minor": 4
}
